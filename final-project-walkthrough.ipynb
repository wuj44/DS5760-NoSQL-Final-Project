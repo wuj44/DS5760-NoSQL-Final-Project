{
 "cells": [
  {
   "cell_type": "markdown",
   "metadata": {},
   "source": [
    "# Final Project Walkthrough"
   ]
  },
  {
   "cell_type": "markdown",
   "metadata": {},
   "source": [
    "### Step 1: Fetch Data through Web Scraping"
   ]
  },
  {
   "cell_type": "markdown",
   "metadata": {},
   "source": [
    "- run web-scraping.py\n",
    "- get 4 csv files - original iphone and keyboard data and clean iphone and keyboard data (item category can be changed based on personal interest)"
   ]
  },
  {
   "cell_type": "markdown",
   "metadata": {},
   "source": [
    "### Step 2: Create a Docker Container and Import Data"
   ]
  },
  {
   "cell_type": "markdown",
   "metadata": {},
   "source": [
    "##### Creat a docker container\n",
    "- docker run --name mymongoproject -v absolute_local_path:/files -p 27017:27017 mongo\n",
    "##### Import data\n",
    "- docker exec -it mymongoproject sh\n",
    "- mongoimport --db mydb --collection iphone --type csv --file /files/clean_iphone.csv --headerline\n",
    "- mongoimport --db mydb --collection keyboard --type csv --file /files/clean_keyboard.csv --headerline\n",
    "- exit\n",
    "##### Insert a new column to both iphone and keyboard with current date as \"last_modified\" in UTC time format\n",
    "- docker exec -it mymongoproject mongosh\n",
    "- use mydb\n",
    "- db.iphone.updateMany({}, {$set: {\"last_modified\": new Date()}},false,true)\n",
    "- db.keyboard.updateMany({}, {$set: {\"last_modified\": new Date()}},false,true)"
   ]
  },
  {
   "cell_type": "markdown",
   "metadata": {},
   "source": [
    "### Step 3: Live Demo in Postman"
   ]
  },
  {
   "cell_type": "markdown",
   "metadata": {},
   "source": [
    "- run run-app.py\n",
    "- run queries in Postman\n",
    "\n",
    "\n",
    "* Query to fetch records within a specific date_first_available span\n",
    "* http://127.0.0.1:5000/api/v1/fp/iphone/2021-07-01/2021-08-31\n",
    "\n",
    "- Query to fetch top n records in an ascending order based on price\n",
    "- http://127.0.0.1:5000/api/v1/fp/iphone/price/5/1\n",
    "\n",
    "* Query to create a new item\n",
    "* http://127.0.0.1:5000/api/v1/fp/iphone/iphone 20/20000/create\n",
    "* Return \"638d78c6ffa71f530f500f53\"\n",
    "\n",
    "- Query to replace an incorrectly created item\n",
    "- http://127.0.0.1:5000/api/v1/fp/iphone/638d78c6ffa71f530f500f53/iphone15/1999/replace\n",
    "\n",
    "* Query to update the price\n",
    "* db.iphone.findOne()\n",
    "* http://127.0.0.1:5000/api/v1/fp/iphone/2021-12-31/20/update_price\n",
    "* db.iphone.findOne()\n",
    "\n",
    "- Query to update the overview\n",
    "- db.iphone.findOne()\n",
    "- http://127.0.0.1:5000/api/v1/fp/iphone/638d490f4737461ef36154d7/newoverview/update_overview\n",
    "- db.iphone.findOne()\n",
    "\n",
    "* Query to remove the record based on the id\n",
    "* http://127.0.0.1:5000/api/v1/fp/iphone/638d490f4737461ef36154d7/remove\n",
    "* db.iphone.find(Objectid(\"638d490f4737461ef36154d7\"))"
   ]
  },
  {
   "cell_type": "markdown",
   "metadata": {},
   "source": []
  }
 ],
 "metadata": {
  "kernelspec": {
   "display_name": "Python 3.8.9 64-bit",
   "language": "python",
   "name": "python3"
  },
  "language_info": {
   "codemirror_mode": {
    "name": "ipython",
    "version": 3
   },
   "file_extension": ".py",
   "mimetype": "text/x-python",
   "name": "python",
   "nbconvert_exporter": "python",
   "pygments_lexer": "ipython3",
   "version": "3.8.9"
  },
  "orig_nbformat": 4,
  "vscode": {
   "interpreter": {
    "hash": "31f2aee4e71d21fbe5cf8b01ff0e069b9275f58929596ceb00d14d90e3e16cd6"
   }
  }
 },
 "nbformat": 4,
 "nbformat_minor": 2
}
